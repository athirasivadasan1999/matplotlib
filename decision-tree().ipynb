{
 "cells": [
  {
   "cell_type": "code",
   "execution_count": 1,
   "metadata": {},
   "outputs": [
    {
     "name": "stdout",
     "output_type": "stream",
     "text": [
      "   gives_birth  aquatic_animal  aerial_animal  has_legs class_label\n",
      "0            1               0              0         1      mammal\n",
      "1            0               0              0         0     reptile\n",
      "2            0               1              0         0        fish\n",
      "3            0               2              0         1   amphibian\n",
      "4            1               0              1         1        bird\n",
      "5            0               0              1         1        bird\n",
      "6            1               0              0         1      mammal\n",
      "7            1               1              0         0        fish\n",
      "8            0               2              0         1   amphibian\n",
      "9            0               2              0         1   amphibian\n",
      "accuracy 1.0\n",
      "['fish']\n"
     ]
    }
   ],
   "source": [
    "import pandas as pd\n",
    "import matplotlib.pyplot as plt\n",
    "from sklearn import tree\n",
    "from sklearn import metrics\n",
    "from sklearn.model_selection import train_test_split\n",
    "from sklearn.tree import DecisionTreeClassifier\n",
    "iris=pd.read_csv(\"dslab.csv.csv\")\n",
    "print(iris)\n",
    "X=iris[[\"gives_birth\",\"aquatic_animal\",\"aerial_animal\",\"has_legs\"]]\n",
    "y=iris[[\"class_label\"]]\n",
    "\n",
    "X_train,X_test,y_train,y_test=train_test_split(X,y,test_size=0.3,random_state=1);\n",
    "clf=DecisionTreeClassifier(criterion=\"entropy\")\n",
    "clf.fit(X_train,y_train)\n",
    "y_pred=clf.predict(X_test)\n",
    "print(\"accuracy\",metrics.accuracy_score(y_test,y_pred))\n",
    "sample=[[1,1,0,0]]\n",
    "y_new=clf.predict(sample)\n",
    "print(y_new)"
   ]
  },
  {
   "cell_type": "code",
   "execution_count": null,
   "metadata": {},
   "outputs": [],
   "source": []
  }
 ],
 "metadata": {
  "kernelspec": {
   "display_name": "Python 3",
   "language": "python",
   "name": "python3"
  },
  "language_info": {
   "codemirror_mode": {
    "name": "ipython",
    "version": 3
   },
   "file_extension": ".py",
   "mimetype": "text/x-python",
   "name": "python",
   "nbconvert_exporter": "python",
   "pygments_lexer": "ipython3",
   "version": "3.7.0"
  }
 },
 "nbformat": 4,
 "nbformat_minor": 2
}
