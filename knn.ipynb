{
 "cells": [
  {
   "cell_type": "code",
   "execution_count": 1,
   "metadata": {},
   "outputs": [
    {
     "name": "stdout",
     "output_type": "stream",
     "text": [
      "   gives_birth  aquatic_animal  aerial_animal  has_legs class_label\n",
      "0            1               0              0         1      mammal\n",
      "1            0               0              0         0     reptile\n",
      "2            0               1              0         0        fish\n",
      "3            0               2              0         1   amphibian\n",
      "4            1               0              1         1        bird\n",
      "5            0               0              1         1        bird\n",
      "6            1               0              0         1      mammal\n",
      "7            1               1              0         0        fish\n",
      "8            0               2              0         1   amphibian\n",
      "9            0               2              0         1   amphibian\n",
      "['fish' 'amphibian' 'fish']\n",
      "accuracy 0.3333333333333333\n",
      "['fish']\n"
     ]
    },
    {
     "name": "stderr",
     "output_type": "stream",
     "text": [
      "C:\\Users\\mYpC\\Anaconda3\\lib\\site-packages\\ipykernel_launcher.py:23: DataConversionWarning: A column-vector y was passed when a 1d array was expected. Please change the shape of y to (n_samples, ), for example using ravel().\n"
     ]
    }
   ],
   "source": [
    "import pandas as pd\n",
    "import matplotlib.pyplot as plt\n",
    "\n",
    "from sklearn.model_selection import train_test_split\n",
    "from sklearn.neighbors import KNeighborsClassifier\n",
    "\n",
    "from sklearn import metrics\n",
    "\n",
    "\n",
    "iris=pd.read_csv(\"dslab.csv.csv\")\n",
    "print(iris)\n",
    "\n",
    "X=iris[[\"gives_birth\",\"aquatic_animal\",\"aerial_animal\",\"has_legs\"]]\n",
    "y=iris[[\"class_label\"]]\n",
    "\n",
    "X_train,X_test,y_train,y_test=train_test_split(X,y);\n",
    "\n",
    "\n",
    "\n",
    "clf=KNeighborsClassifier(n_neighbors=5)\n",
    "\n",
    "\n",
    "clf.fit(X_train,y_train)\n",
    "y_pred=clf.predict(X_test)\n",
    "print(y_pred)\n",
    "\n",
    "print(\"accuracy\",metrics.accuracy_score(y_test,y_pred))\n",
    "sample=[[1,1,0,0]]\n",
    "print(clf.predict(sample))\n",
    "\n"
   ]
  },
  {
   "cell_type": "code",
   "execution_count": null,
   "metadata": {},
   "outputs": [],
   "source": []
  }
 ],
 "metadata": {
  "kernelspec": {
   "display_name": "Python 3",
   "language": "python",
   "name": "python3"
  },
  "language_info": {
   "codemirror_mode": {
    "name": "ipython",
    "version": 3
   },
   "file_extension": ".py",
   "mimetype": "text/x-python",
   "name": "python",
   "nbconvert_exporter": "python",
   "pygments_lexer": "ipython3",
   "version": "3.7.0"
  }
 },
 "nbformat": 4,
 "nbformat_minor": 2
}
